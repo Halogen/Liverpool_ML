{
 "cells": [
  {
   "cell_type": "code",
   "execution_count": 10,
   "metadata": {},
   "outputs": [],
   "source": [
    "import csv\n",
    "\n",
    "from sklearn.feature_extraction.text import CountVectorizer, TfidfTransformer\n",
    "from sklearn.feature_extraction import DictVectorizer\n",
    "#from sklearn.ensemble import RandomForestClassifier\n",
    "from sklearn.ensemble import RandomForestRegressor\n",
    "from sklearn.metrics import accuracy_score, confusion_matrix\n",
    "#from sklearn import cross_validation\n",
    "from sklearn.model_selection import cross_val_score\n",
    "from SMOTE import *\n",
    "import pandas as pd"
   ]
  },
  {
   "cell_type": "code",
   "execution_count": 6,
   "metadata": {},
   "outputs": [],
   "source": [
    "def gen_data_set_with_smote(pos_data):\n",
    "\tsynthetic_data = SMOTE(pos_data, 20000, 10)\n",
    "\tnew_pos_data = np.concatenate((pos_data, synthetic_data))\n",
    "\treturn new_pos_data\n",
    "\n"
   ]
  },
  {
   "cell_type": "code",
   "execution_count": 7,
   "metadata": {},
   "outputs": [],
   "source": [
    "def training_forest(data, labels):\n",
    "\tbest_acc = 0.0\n",
    "\tbest_size = 0\n",
    "\tbest_depth = 0\n",
    "\t#for depth in range(1, 10):\n",
    "\tfor depth in [8,9,10]:\n",
    "\t\t#for size in [20, 40, 60, 80, 100, 120, 140, 160, 180, 200]:\n",
    "\t\tfor size in [40,60,80]:\n",
    "\t\t\treg = RandomForestRegressor(n_estimators=size, max_depth=depth, n_jobs=6)\n",
    "\t\t\tscores = cross_val_score(reg, data, np.asarray(labels), cv=3)\n",
    "\t\t\tacc = scores.mean()\n",
    "\t\t\tprint(\"size\", size, \", depth:\", depth, \"acc:\", acc)\n",
    "\t\t\tif acc > best_acc:\n",
    "\t\t\t\tbest_acc = acc\n",
    "\t\t\t\tbest_size = size\n",
    "\t\t\t\tbest_depth = depth\n",
    "\tprint(\"best size\", best_size, \", best depth:\", best_depth, \"best acc\", best_acc)\n",
    "\treg = RandomForestRegressor(n_estimators=best_size, max_depth=best_depth, n_jobs=6)\n",
    "\treg.fit(data, np.asarray(labels))\n",
    "\treturn clf"
   ]
  },
  {
   "cell_type": "code",
   "execution_count": 9,
   "metadata": {},
   "outputs": [],
   "source": [
    "def test_forest(model, test_data):\n",
    "\tres = model.predict(test_data)\n",
    "\tprint('Predicted labels:', res)\n",
    "\tres = model.predict_proba(test_data)\n",
    "\t# print res\n",
    "\tprob = res[:,1]\n",
    "# \tprint('Predicted probabilities:', prob)\n",
    "\t# res = np.argsort(prob)\n",
    "\t# print res[::-1]\n",
    "\tkeys = positive_keys + negative_keys\n",
    "\tfor i in range(len(keys)):\n",
    "\t\tkey_prob[keys[i]] = prob[i]\n",
    "\t# print key_prob"
   ]
  },
  {
   "cell_type": "code",
   "execution_count": 8,
   "metadata": {},
   "outputs": [],
   "source": [
    "data = pd.read_csv(\"data/patient_view/swslhd_comp_stat_no_doc.csv\")"
   ]
  },
  {
   "cell_type": "code",
   "execution_count": null,
   "metadata": {},
   "outputs": [],
   "source": []
  },
  {
   "cell_type": "code",
   "execution_count": null,
   "metadata": {},
   "outputs": [],
   "source": []
  },
  {
   "cell_type": "code",
   "execution_count": null,
   "metadata": {},
   "outputs": [],
   "source": []
  },
  {
   "cell_type": "code",
   "execution_count": null,
   "metadata": {},
   "outputs": [],
   "source": []
  }
 ],
 "metadata": {
  "kernelspec": {
   "display_name": "Python 3",
   "language": "python",
   "name": "python3"
  },
  "language_info": {
   "codemirror_mode": {
    "name": "ipython",
    "version": 3
   },
   "file_extension": ".py",
   "mimetype": "text/x-python",
   "name": "python",
   "nbconvert_exporter": "python",
   "pygments_lexer": "ipython3",
   "version": "3.7.0"
  }
 },
 "nbformat": 4,
 "nbformat_minor": 2
}
